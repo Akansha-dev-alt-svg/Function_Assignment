{
  "nbformat": 4,
  "nbformat_minor": 0,
  "metadata": {
    "colab": {
      "provenance": []
    },
    "kernelspec": {
      "name": "python3",
      "display_name": "Python 3"
    },
    "language_info": {
      "name": "python"
    }
  },
  "cells": [
    {
      "cell_type": "markdown",
      "source": [
        "***Theory Answer***\n",
        "\n",
        "---\n",
        "\n",
        "**1. What is the difference between interpreted and compiled languages?**\n",
        "\n",
        "Compiled languages translate code to machine language before execution (e.g., C++), while interpreted languages like Python execute code line by line, making them easier to debug but often slower.\n",
        "\n",
        "**2. What is exception handling in Python?**\n",
        "\n",
        "Exception handling lets you catch and manage runtime errors using `try`, `except`, `else`, and `finally` blocks to keep your program from crashing.\n",
        "\n",
        "**3. What is the purpose of the finally block in exception handling?**\n",
        "\n",
        "The `finally` block runs no matter what, making it ideal for closing files, cleaning up memory, or releasing resources.\n",
        "\n",
        "**4. What is logging in Python?**\n",
        "\n",
        "Logging tracks events and errors that occur while a program runs, helping with debugging and long-term monitoring.\n",
        "\n",
        "**5. What is the significance of the **del** method in Python?**\n",
        "\n",
        "The `__del__` method is a destructor called when an object is deleted. It can be used to free resources or perform cleanup tasks.\n",
        "\n",
        "**6. What is the difference between import and from ... import in Python?**\n",
        "\n",
        "`import module` brings in the entire module. `from module import item` imports only specific parts of the module, like a function or class.\n",
        "\n",
        "**7. How can you handle multiple exceptions in Python?**\n",
        "\n",
        "You can write multiple `except` blocks or group exceptions in a tuple like `except (ValueError, TypeError):`.\n",
        "\n",
        "**8. What is the purpose of the with statement when handling files in Python?**\n",
        "\n",
        "The `with` statement ensures that files are properly opened and closed, even if an error occurs during file operations.\n",
        "\n",
        "**9. What is the difference between multithreading and multiprocessing?**\n",
        "\n",
        "Multithreading runs multiple threads in the same process, sharing memory. Multiprocessing runs separate processes, using more memory but better for CPU-intensive tasks.\n",
        "\n",
        "**10. What are the advantages of using logging in a program?**\n",
        "\n",
        "Logging allows better error tracking, debugging, auditing, and monitoring. It also works across files and doesn’t interrupt program flow like `print()`.\n",
        "\n",
        "**11. What is memory management in Python?**\n",
        "\n",
        "Memory management involves allocating, using, and freeing memory. Python handles this using reference counting and garbage collection.\n",
        "\n",
        "**12. What are the basic steps involved in exception handling in Python?**\n",
        "\n",
        "Wrap risky code in `try`, use `except` to catch errors, `else` for code to run if no error occurs, and `finally` for clean-up actions.\n",
        "\n",
        "**13. Why is memory management important in Python?**\n",
        "\n",
        "Proper memory management prevents memory leaks and ensures efficient use of system resources, especially for large or long-running programs.\n",
        "\n",
        "**14. What is the role of try and except in exception handling?**\n",
        "\n",
        "The `try` block runs code that may cause an error. If an exception occurs, the `except` block catches and handles it gracefully.\n",
        "\n",
        "**15. How does Python's garbage collection system work?**\n",
        "\n",
        "Python automatically deletes objects with zero references using reference counting and a cyclic garbage collector.\n",
        "\n",
        "**16. What is the purpose of the else block in exception handling?**\n",
        "\n",
        "The `else` block runs only if no exception occurs in the `try` block. It's useful for code that should only run when things go right.\n",
        "\n",
        "**17. What are the common logging levels in Python?**\n",
        "\n",
        "* DEBUG\n",
        "* INFO\n",
        "* WARNING\n",
        "* ERROR\n",
        "* CRITICAL\n",
        "  Each level indicates the severity of the message.\n",
        "\n",
        "**18. What is the difference between os.fork() and multiprocessing in Python?**\n",
        "\n",
        "`os.fork()` creates a child process on Unix-based systems. `multiprocessing` is cross-platform and easier to use for parallel tasks.\n",
        "\n",
        "**19. What is the importance of closing a file in Python?**\n",
        "\n",
        "Closing a file frees system resources, ensures data is written properly, and avoids file corruption or memory leaks.\n",
        "\n",
        "**20. What is the difference between file.read() and file.readline() in Python?**\n",
        "\n",
        "`read()` reads the entire file as one string. `readline()` reads only one line at a time, which is more memory-efficient for large files.\n",
        "\n",
        "**21. What is the logging module in Python used for?**\n",
        "\n",
        "The `logging` module helps record messages, errors, or system events, often saving them to files or displaying them for debugging.\n",
        "\n",
        "**22. What is the os module in Python used for in file handling?**\n",
        "\n",
        "The `os` module helps interact with the operating system, such as file paths, creating/deleting directories, and checking file existence.\n",
        "\n",
        "**23. What are the challenges associated with memory management in Python?**\n",
        "\n",
        "Issues like circular references and memory leaks can arise. Managing large objects and caching can also be challenging.\n",
        "\n",
        "**24. How do you raise an exception manually in Python?**\n",
        "\n",
        "Use the `raise` keyword followed by an exception type, e.g., `raise ValueError(\"Invalid input\")`.\n",
        "\n",
        "**25. Why is it important to use multithreading in certain applications?**\n",
        "\n",
        "Multithreading is useful for I/O-bound tasks like web scraping or file I/O, making programs faster and more responsive.\n",
        "\n",
        "---\n"
      ],
      "metadata": {
        "id": "63bBJHTDgkrn"
      }
    },
    {
      "cell_type": "markdown",
      "source": [
        "***Practical Answer***\n",
        "\n",
        "---"
      ],
      "metadata": {
        "id": "Q_GyuJEqhPix"
      }
    },
    {
      "cell_type": "code",
      "source": [
        "import os\n",
        "import logging\n",
        "from logging.handlers import RotatingFileHandler"
      ],
      "metadata": {
        "id": "bo0nJzZcm4ek"
      },
      "execution_count": 3,
      "outputs": []
    },
    {
      "cell_type": "code",
      "execution_count": 4,
      "metadata": {
        "id": "CukW2wG1cvCA",
        "colab": {
          "base_uri": "https://localhost:8080/"
        },
        "outputId": "4eca0a15-1dd2-4730-f54e-1712b13304de"
      },
      "outputs": [
        {
          "output_type": "stream",
          "name": "stdout",
          "text": [
            "1. Successfully wrote to 'example.txt'\n"
          ]
        }
      ],
      "source": [
        "# 1. Open a file and write a string\n",
        "try:\n",
        "    with open(\"example.txt\", \"w\") as file:\n",
        "        file.write(\"Hello, this is a test file.\\n\")\n",
        "        file.write(\"Second line of content.\")\n",
        "    print(\"1. Successfully wrote to 'example.txt'\")\n",
        "except IOError as e:\n",
        "    print(f\"1. Error writing to file: {e}\")"
      ]
    },
    {
      "cell_type": "code",
      "source": [
        "# 2. Read file and print each line\n",
        "try:\n",
        "    with open(\"example.txt\", \"r\") as file:\n",
        "        print(\"2. Contents of 'example.txt':\")\n",
        "        for line in file:\n",
        "            print(line.strip())\n",
        "except FileNotFoundError:\n",
        "    print(\"2. File not found.\")"
      ],
      "metadata": {
        "colab": {
          "base_uri": "https://localhost:8080/"
        },
        "id": "bmkCKAD6nDpv",
        "outputId": "f045458d-8e1c-4c32-def5-bd1250e6ea97"
      },
      "execution_count": 5,
      "outputs": [
        {
          "output_type": "stream",
          "name": "stdout",
          "text": [
            "2. Contents of 'example.txt':\n",
            "Hello, this is a test file.\n",
            "Second line of content.\n"
          ]
        }
      ]
    },
    {
      "cell_type": "code",
      "source": [
        "# 3. Handle file not found error\n",
        "try:\n",
        "    with open(\"nofile.txt\", \"r\") as file:\n",
        "        print(file.read())\n",
        "except FileNotFoundError:\n",
        "    print(\"3. File not found error handled.\")"
      ],
      "metadata": {
        "colab": {
          "base_uri": "https://localhost:8080/"
        },
        "id": "btZu89zmnJ2k",
        "outputId": "b21a32f7-f4b2-4969-bb9a-06e85e914a68"
      },
      "execution_count": 6,
      "outputs": [
        {
          "output_type": "stream",
          "name": "stdout",
          "text": [
            "3. File not found error handled.\n"
          ]
        }
      ]
    },
    {
      "cell_type": "code",
      "source": [
        "# 4. Copy content from one file to another\n",
        "try:\n",
        "    with open(\"example.txt\", \"r\") as src, open(\"copy.txt\", \"w\") as dst:\n",
        "        dst.write(src.read())\n",
        "    print(\"4. File copied to 'copy.txt'.\")\n",
        "except IOError as e:\n",
        "    print(f\"4. File copy failed: {e}\")"
      ],
      "metadata": {
        "colab": {
          "base_uri": "https://localhost:8080/"
        },
        "id": "hxzmJIa1nNtC",
        "outputId": "e9a4bd1a-3a8c-4f7f-e2ef-d04519306963"
      },
      "execution_count": 7,
      "outputs": [
        {
          "output_type": "stream",
          "name": "stdout",
          "text": [
            "4. File copied to 'copy.txt'.\n"
          ]
        }
      ]
    },
    {
      "cell_type": "code",
      "source": [
        "# 5. Division by zero handling\n",
        "try:\n",
        "    result = 10 / 0\n",
        "except ZeroDivisionError:\n",
        "    print(\"5. Division by zero handled.\")"
      ],
      "metadata": {
        "colab": {
          "base_uri": "https://localhost:8080/"
        },
        "id": "ETkNznRlnQul",
        "outputId": "7d09643e-59ef-472a-c26d-b0036c30c6fa"
      },
      "execution_count": 8,
      "outputs": [
        {
          "output_type": "stream",
          "name": "stdout",
          "text": [
            "5. Division by zero handled.\n"
          ]
        }
      ]
    },
    {
      "cell_type": "code",
      "source": [
        "# 6. Log division by zero error\n",
        "logging.basicConfig(filename=\"error.log\", level=logging.ERROR)\n",
        "try:\n",
        "    result = 10 / 0\n",
        "except ZeroDivisionError as e:\n",
        "    logging.error(f\"6. Error occurred: {e}\")\n",
        "    print(\"6. Division by zero logged.\")"
      ],
      "metadata": {
        "colab": {
          "base_uri": "https://localhost:8080/"
        },
        "id": "pYWqcedLnURv",
        "outputId": "be329bbc-55c9-4b21-e816-53046efad4de"
      },
      "execution_count": 9,
      "outputs": [
        {
          "output_type": "stream",
          "name": "stderr",
          "text": [
            "ERROR:root:6. Error occurred: division by zero\n"
          ]
        },
        {
          "output_type": "stream",
          "name": "stdout",
          "text": [
            "6. Division by zero logged.\n"
          ]
        }
      ]
    },
    {
      "cell_type": "code",
      "source": [
        "# 7. Log different levels\n",
        "logging.info(\"7. INFO level log\")\n",
        "logging.warning(\"7. WARNING level log\")\n",
        "logging.error(\"7. ERROR level log\")\n",
        "print(\"7. Logging at INFO, WARNING, ERROR levels done.\")"
      ],
      "metadata": {
        "colab": {
          "base_uri": "https://localhost:8080/"
        },
        "id": "fcdjsEqGnXxI",
        "outputId": "e3f4d839-ebcb-4b93-8ba0-880f5dd3c555"
      },
      "execution_count": 10,
      "outputs": [
        {
          "output_type": "stream",
          "name": "stderr",
          "text": [
            "WARNING:root:7. WARNING level log\n",
            "ERROR:root:7. ERROR level log\n"
          ]
        },
        {
          "output_type": "stream",
          "name": "stdout",
          "text": [
            "7. Logging at INFO, WARNING, ERROR levels done.\n"
          ]
        }
      ]
    },
    {
      "cell_type": "code",
      "source": [
        "# 8. Handle file opening error\n",
        "try:\n",
        "    open(\"missing.txt\", \"r\")\n",
        "except FileNotFoundError:\n",
        "    print(\"8. File opening error handled.\")"
      ],
      "metadata": {
        "colab": {
          "base_uri": "https://localhost:8080/"
        },
        "id": "F1lF7ELSnbMA",
        "outputId": "b90493a8-ec27-4030-f4df-37286d4234f3"
      },
      "execution_count": 11,
      "outputs": [
        {
          "output_type": "stream",
          "name": "stdout",
          "text": [
            "8. File opening error handled.\n"
          ]
        }
      ]
    },
    {
      "cell_type": "code",
      "source": [
        "# 9. Read file into a list\n",
        "try:\n",
        "    with open(\"example.txt\", \"r\") as file:\n",
        "        lines = file.readlines()\n",
        "        print(\"9. Lines as list:\", lines)\n",
        "except FileNotFoundError:\n",
        "    print(\"9. File not found.\")\n"
      ],
      "metadata": {
        "colab": {
          "base_uri": "https://localhost:8080/"
        },
        "id": "sWv6aYcanpLI",
        "outputId": "9f93d468-03b5-4e4d-8a3f-2742b25f42d9"
      },
      "execution_count": 12,
      "outputs": [
        {
          "output_type": "stream",
          "name": "stdout",
          "text": [
            "9. Lines as list: ['Hello, this is a test file.\\n', 'Second line of content.']\n"
          ]
        }
      ]
    },
    {
      "cell_type": "code",
      "source": [
        "# 10. Append data to a file\n",
        "try:\n",
        "    with open(\"example.txt\", \"a\") as file:\n",
        "        file.write(\"\\nAppended line.\")\n",
        "    print(\"10. Successfully appended data.\")\n",
        "except IOError as e:\n",
        "    print(f\"10. Error appending data: {e}\")"
      ],
      "metadata": {
        "colab": {
          "base_uri": "https://localhost:8080/"
        },
        "id": "HFBLjsrFnvJN",
        "outputId": "5a4c3e8f-20c8-465e-8668-e6c7e30cb682"
      },
      "execution_count": 13,
      "outputs": [
        {
          "output_type": "stream",
          "name": "stdout",
          "text": [
            "10. Successfully appended data.\n"
          ]
        }
      ]
    },
    {
      "cell_type": "code",
      "source": [
        "# 11. Dictionary key error handling\n",
        "data = {\"name\": \"Alice\"}\n",
        "try:\n",
        "    print(\"11. Age:\", data[\"age\"])\n",
        "except KeyError:\n",
        "    print(\"11. KeyError handled for 'age'.\")"
      ],
      "metadata": {
        "colab": {
          "base_uri": "https://localhost:8080/"
        },
        "id": "HbaVC7dLnyTA",
        "outputId": "e981846b-b157-4791-fc9b-6dd40f32f8ea"
      },
      "execution_count": 14,
      "outputs": [
        {
          "output_type": "stream",
          "name": "stdout",
          "text": [
            "11. KeyError handled for 'age'.\n"
          ]
        }
      ]
    },
    {
      "cell_type": "code",
      "source": [
        "# 12. Handle multiple exceptions\n",
        "try:\n",
        "    print(10 / 0)\n",
        "    print(undefined_var)\n",
        "except ZeroDivisionError:\n",
        "    print(\"12. ZeroDivisionError handled.\")\n",
        "except NameError:\n",
        "    print(\"12. NameError handled.\")"
      ],
      "metadata": {
        "colab": {
          "base_uri": "https://localhost:8080/"
        },
        "id": "1_VNn1WIn3C1",
        "outputId": "8370d8f1-2021-4c56-8502-c58d47a5159a"
      },
      "execution_count": 15,
      "outputs": [
        {
          "output_type": "stream",
          "name": "stdout",
          "text": [
            "12. ZeroDivisionError handled.\n"
          ]
        }
      ]
    },
    {
      "cell_type": "code",
      "source": [
        "# 13. Check file existence before reading\n",
        "if os.path.exists(\"example.txt\"):\n",
        "    with open(\"example.txt\", \"r\") as file:\n",
        "        print(\"13. File content:\", file.read())\n",
        "else:\n",
        "    print(\"13. File does not exist.\")"
      ],
      "metadata": {
        "colab": {
          "base_uri": "https://localhost:8080/"
        },
        "id": "xdWIahqfn8Q-",
        "outputId": "8e633dcb-109d-4c23-b103-f3acc71553c5"
      },
      "execution_count": 17,
      "outputs": [
        {
          "output_type": "stream",
          "name": "stdout",
          "text": [
            "13. File content: Hello, this is a test file.\n",
            "Second line of content.\n",
            "Appended line.\n"
          ]
        }
      ]
    },
    {
      "cell_type": "code",
      "source": [
        "# 14. Log informational and error messages\n",
        "logging.info(\"14. Application started\")\n",
        "try:\n",
        "    x = 1 / 0\n",
        "except ZeroDivisionError:\n",
        "    logging.error(\"14. Division by zero occurred\")\n",
        "print(\"14. Logged info and error.\")"
      ],
      "metadata": {
        "colab": {
          "base_uri": "https://localhost:8080/"
        },
        "id": "xQtM3aIKn93c",
        "outputId": "57e3b74d-95df-42b0-810b-e205ee6d69dc"
      },
      "execution_count": 18,
      "outputs": [
        {
          "output_type": "stream",
          "name": "stderr",
          "text": [
            "ERROR:root:14. Division by zero occurred\n"
          ]
        },
        {
          "output_type": "stream",
          "name": "stdout",
          "text": [
            "14. Logged info and error.\n"
          ]
        }
      ]
    },
    {
      "cell_type": "code",
      "source": [
        "# 15. Check if file is empty before reading\n",
        "try:\n",
        "    with open(\"example.txt\", \"r\") as file:\n",
        "        content = file.read()\n",
        "        if content:\n",
        "            print(\"15. File content:\", content)\n",
        "        else:\n",
        "            print(\"15. File is empty.\")\n",
        "except FileNotFoundError:\n",
        "    print(\"15. File not found.\")"
      ],
      "metadata": {
        "colab": {
          "base_uri": "https://localhost:8080/"
        },
        "id": "M91p0jG5oH8W",
        "outputId": "72344dfd-180d-4c84-b399-8e38a3976923"
      },
      "execution_count": 19,
      "outputs": [
        {
          "output_type": "stream",
          "name": "stdout",
          "text": [
            "15. File content: Hello, this is a test file.\n",
            "Second line of content.\n",
            "Appended line.\n"
          ]
        }
      ]
    },
    {
      "cell_type": "code",
      "source": [
        "# 16. Demonstrate memory usage function (mock)\n",
        "def memory_usage_example():\n",
        "    a = [i for i in range(10000)]\n",
        "    return sum(a)\n",
        "\n",
        "print(\"16. Memory usage function executed.\")"
      ],
      "metadata": {
        "colab": {
          "base_uri": "https://localhost:8080/"
        },
        "id": "VcnXjj_KoPOC",
        "outputId": "74d423c0-bcc0-4430-beda-724ced24cc4b"
      },
      "execution_count": 20,
      "outputs": [
        {
          "output_type": "stream",
          "name": "stdout",
          "text": [
            "16. Memory usage function executed.\n"
          ]
        }
      ]
    },
    {
      "cell_type": "code",
      "source": [
        "# 17. Write list of numbers to file\n",
        "numbers = [1, 2, 3, 4, 5]\n",
        "try:\n",
        "    with open(\"numbers.txt\", \"w\") as file:\n",
        "        for num in numbers:\n",
        "            file.write(str(num) + \"\\n\")\n",
        "    print(\"17. Numbers written to 'numbers.txt'\")\n",
        "except IOError as e:\n",
        "    print(f\"17. Error writing numbers: {e}\")"
      ],
      "metadata": {
        "colab": {
          "base_uri": "https://localhost:8080/"
        },
        "id": "ZyAcL4IxoSty",
        "outputId": "b3f3b337-1ef0-4be8-ded5-ae30d6bbf60c"
      },
      "execution_count": 21,
      "outputs": [
        {
          "output_type": "stream",
          "name": "stdout",
          "text": [
            "17. Numbers written to 'numbers.txt'\n"
          ]
        }
      ]
    },
    {
      "cell_type": "code",
      "source": [
        "# 18. Logging with rotation\n",
        "handler = RotatingFileHandler(\"rotating.log\", maxBytes=1024*1024, backupCount=3)\n",
        "logger = logging.getLogger(\"Rotator\")\n",
        "logger.setLevel(logging.INFO)\n",
        "logger.addHandler(handler)\n",
        "logger.info(\"18. Rotating log setup complete.\")\n",
        "print(\"18. Logging with rotation configured.\")"
      ],
      "metadata": {
        "colab": {
          "base_uri": "https://localhost:8080/"
        },
        "id": "ph9j5vYMoV_L",
        "outputId": "b9ed41ff-c453-4ddd-d2a8-59e7e7175b97"
      },
      "execution_count": 22,
      "outputs": [
        {
          "output_type": "stream",
          "name": "stderr",
          "text": [
            "INFO:Rotator:18. Rotating log setup complete.\n"
          ]
        },
        {
          "output_type": "stream",
          "name": "stdout",
          "text": [
            "18. Logging with rotation configured.\n"
          ]
        }
      ]
    },
    {
      "cell_type": "code",
      "source": [
        "# 19. Handle IndexError and KeyError\n",
        "try:\n",
        "    lst = [1]\n",
        "    print(lst[2])\n",
        "    d = {\"x\": 1}\n",
        "    print(d[\"y\"])\n",
        "except IndexError:\n",
        "    print(\"19. IndexError handled.\")\n",
        "except KeyError:\n",
        "    print(\"19. KeyError handled.\")"
      ],
      "metadata": {
        "colab": {
          "base_uri": "https://localhost:8080/"
        },
        "id": "MO0oRUfkoXUz",
        "outputId": "9ac58994-10f7-4ad5-92f8-65d37f5d4fd9"
      },
      "execution_count": 23,
      "outputs": [
        {
          "output_type": "stream",
          "name": "stdout",
          "text": [
            "19. IndexError handled.\n"
          ]
        }
      ]
    },
    {
      "cell_type": "code",
      "source": [
        "# 20. Read file using context manager\n",
        "try:\n",
        "    with open(\"example.txt\", \"r\") as file:\n",
        "        print(\"20. File content:\", file.read())\n",
        "except FileNotFoundError:\n",
        "    print(\"20. File not found.\")"
      ],
      "metadata": {
        "colab": {
          "base_uri": "https://localhost:8080/"
        },
        "id": "Y8SQPe-mod0m",
        "outputId": "9b7e2fda-bb76-4cc6-93e8-12ebb99e17f9"
      },
      "execution_count": 24,
      "outputs": [
        {
          "output_type": "stream",
          "name": "stdout",
          "text": [
            "20. File content: Hello, this is a test file.\n",
            "Second line of content.\n",
            "Appended line.\n"
          ]
        }
      ]
    },
    {
      "cell_type": "code",
      "source": [
        "# 21. Count word occurrences\n",
        "word = \"test\"\n",
        "try:\n",
        "    with open(\"example.txt\", \"r\") as file:\n",
        "        content = file.read()\n",
        "        count = content.count(word)\n",
        "        print(f\"21. Word '{word}' occurs {count} times.\")\n",
        "except FileNotFoundError:\n",
        "    print(\"21. File not found.\")"
      ],
      "metadata": {
        "colab": {
          "base_uri": "https://localhost:8080/"
        },
        "id": "RVwiQozWohN6",
        "outputId": "4a171dec-28d9-49d5-fb5a-f11fa4c57ec1"
      },
      "execution_count": 25,
      "outputs": [
        {
          "output_type": "stream",
          "name": "stdout",
          "text": [
            "21. Word 'test' occurs 1 times.\n"
          ]
        }
      ]
    },
    {
      "cell_type": "code",
      "source": [
        "# 22. Check if file is empty\n",
        "if os.path.exists(\"example.txt\") and os.path.getsize(\"example.txt\") == 0:\n",
        "    print(\"22. File is empty.\")\n",
        "else:\n",
        "    with open(\"example.txt\", \"r\") as file:\n",
        "        print(\"22. File is not empty.\")"
      ],
      "metadata": {
        "colab": {
          "base_uri": "https://localhost:8080/"
        },
        "id": "60ZUj3W7oj_5",
        "outputId": "1494d012-683c-4b7a-92e7-618161f52610"
      },
      "execution_count": 26,
      "outputs": [
        {
          "output_type": "stream",
          "name": "stdout",
          "text": [
            "22. File is not empty.\n"
          ]
        }
      ]
    },
    {
      "cell_type": "code",
      "source": [
        "# 23. Log error during file read\n",
        "try:\n",
        "    with open(\"nofile.txt\", \"r\") as file:\n",
        "        print(file.read())\n",
        "except Exception as e:\n",
        "    logging.error(f\"23. File error: {e}\")\n",
        "    print(\"23. Error logged during file read.\")\n"
      ],
      "metadata": {
        "colab": {
          "base_uri": "https://localhost:8080/"
        },
        "id": "me4iKiKTomYl",
        "outputId": "41f44305-fa3d-4eb6-cc73-b57536e762b9"
      },
      "execution_count": 27,
      "outputs": [
        {
          "output_type": "stream",
          "name": "stderr",
          "text": [
            "ERROR:root:23. File error: [Errno 2] No such file or directory: 'nofile.txt'\n"
          ]
        },
        {
          "output_type": "stream",
          "name": "stdout",
          "text": [
            "23. Error logged during file read.\n"
          ]
        }
      ]
    }
  ]
}