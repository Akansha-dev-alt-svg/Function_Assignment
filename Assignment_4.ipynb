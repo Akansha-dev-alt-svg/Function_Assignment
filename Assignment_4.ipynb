{
  "nbformat": 4,
  "nbformat_minor": 0,
  "metadata": {
    "colab": {
      "provenance": []
    },
    "kernelspec": {
      "name": "python3",
      "display_name": "Python 3"
    },
    "language_info": {
      "name": "python"
    }
  },
  "cells": [
    {
      "cell_type": "markdown",
      "source": [
        "***Theory Answer***\n",
        "\n",
        "---\n",
        "\n",
        "1. **What is Object-Oriented Programming (OOP)**\n",
        "\n",
        "   OOP is a programming paradigm based on the concept of “objects” which bundle data and behavior. It helps organize code using classes and promotes reusability and modularity.\n",
        "\n",
        "2. **What is a class in OOP**\n",
        "\n",
        "   A class is a blueprint for creating objects. It defines attributes (variables) and methods (functions) that the objects created from it will have.\n",
        "\n",
        "3. **What is an object in OOP**\n",
        "\n",
        "   An object is an instance of a class. It represents a real-world entity with its own data and behavior defined by the class.\n",
        "\n",
        "4. **Difference between abstraction and encapsulation**\n",
        "\n",
        "   **Abstraction** hides complex implementation details.\n",
        "   **Encapsulation** wraps data and methods into one unit and restricts direct access to internal details.\n",
        "\n",
        "5. **What are dunder methods in Python**\n",
        "\n",
        "   Dunder (double underscore) methods like `__init__` or `__str__` are special methods that start and end with double underscores. They enable operator overloading and object behavior customization.\n",
        "\n",
        "6. **Concept of inheritance in OOP**\n",
        "\n",
        "   Inheritance allows one class (child) to inherit properties and methods from another (parent). It promotes code reuse and a hierarchical class structure.\n",
        "\n",
        "7. **What is polymorphism in OOP**\n",
        "\n",
        "   Polymorphism means “many forms” and allows objects to be treated as instances of their parent class while behaving differently depending on their type.\n",
        "\n",
        "8. **How is encapsulation achieved in Python**\n",
        "\n",
        "   Encapsulation is achieved by using private/protected attributes and methods (prefixing with `_` or `__`) and controlling access through getters and setters.\n",
        "\n",
        "9. **What is a constructor in Python**\n",
        "\n",
        "   A constructor is a special method (`__init__`) that runs automatically when a new object is created, used to initialize attributes.\n",
        "\n",
        "10. **Class and static methods in Python**\n",
        "\n",
        "    A **class method** uses `@classmethod` and receives the class as the first argument.\n",
        "    A **static method** uses `@staticmethod` and does not take any class or instance reference.\n",
        "\n",
        "11. **What is method overloading in Python**\n",
        "\n",
        "    Python doesn't support true method overloading. Instead, default arguments or `*args` can be used to mimic multiple method behaviors.\n",
        "\n",
        "12. **What is method overriding in OOP**\n",
        "\n",
        "    Method overriding allows a child class to provide a new version of a method defined in the parent class, changing its behavior.\n",
        "\n",
        "13. **What is a property decorator in Python**\n",
        "\n",
        "    The `@property` decorator allows a method to be accessed like an attribute. It’s commonly used to define read-only or computed attributes.\n",
        "\n",
        "14. **Why is polymorphism important in OOP**\n",
        "\n",
        "    It enables flexibility and code reuse. Different classes can define methods with the same name, and the correct one is called at runtime.\n",
        "\n",
        "15. **What is an abstract class in Python**\n",
        "\n",
        "    An abstract class cannot be instantiated directly. It defines a common interface for its subclasses and may contain abstract methods without implementation.\n",
        "\n",
        "16. **Advantages of OOP**\n",
        "\n",
        "    OOP promotes modularity, code reusability, easier maintenance, and the ability to model real-world systems more effectively.\n",
        "\n",
        "17. **Difference between class variable and instance variable**\n",
        "\n",
        "    A class variable is shared across all instances. An instance variable is unique to each object and defined using `self`.\n",
        "\n",
        "18. **What is multiple inheritance in Python**\n",
        "\n",
        "    Multiple inheritance allows a class to inherit from more than one parent class, combining their features.\n",
        "\n",
        "19. **Purpose of `__str__` and `__repr__` methods**\n",
        "\n",
        "    `__str__` defines the user-friendly string representation of an object, while `__repr__` gives an official string for debugging or reproduction.\n",
        "\n",
        "20. **Significance of the `super()` function**\n",
        "\n",
        "    `super()` allows access to the parent class’s methods or constructors, especially useful in inheritance to extend functionality.\n",
        "\n",
        "21. **Significance of the `__del__` method**\n",
        "\n",
        "    `__del__` is called when an object is about to be destroyed. It is used for cleanup, like closing files or releasing resources.\n",
        "\n",
        "22. **Difference between @staticmethod and @classmethod**\n",
        "\n",
        "    `@staticmethod` doesn’t take any reference to class or instance.\n",
        "    `@classmethod` receives the class as the first argument and can access or modify class-level data.\n",
        "\n",
        "23. **How polymorphism works with inheritance**\n",
        "\n",
        "    Subclasses override methods from the parent class. When called, the version that matches the object’s actual type is executed.\n",
        "\n",
        "24. **What is method chaining in Python OOP**\n",
        "\n",
        "    Method chaining is calling multiple methods on the same object in one line by returning `self` at the end of each method.\n",
        "\n",
        "25. **Purpose of the `__call__` method in Python**\n",
        "\n",
        "    `__call__` allows an object to be called like a function. It enables functional behavior in class instances.\n",
        "\n"
      ],
      "metadata": {
        "id": "kN6KH-1xLbpZ"
      }
    },
    {
      "cell_type": "markdown",
      "source": [
        "***Practical Answer***\n",
        "\n",
        "---"
      ],
      "metadata": {
        "id": "SC-aWKNTMqTi"
      }
    },
    {
      "cell_type": "code",
      "execution_count": 21,
      "metadata": {
        "id": "2kfByL0ufcPb",
        "colab": {
          "base_uri": "https://localhost:8080/"
        },
        "outputId": "b2cb4d72-b621-4f85-df30-79a0e108f62d"
      },
      "outputs": [
        {
          "output_type": "stream",
          "name": "stdout",
          "text": [
            "Bark!\n"
          ]
        }
      ],
      "source": [
        "# 1. Animal and Dog class with overridden speak method\n",
        "class Animal:\n",
        "    def speak(self):\n",
        "        print(\"This animal makes a sound.\")\n",
        "\n",
        "class Dog(Animal):\n",
        "    def speak(self):\n",
        "        print(\"Bark!\")\n",
        "d = Dog()\n",
        "d.speak()"
      ]
    },
    {
      "cell_type": "code",
      "source": [
        "# 2. Abstract class Shape with Circle and Rectangle\n",
        "\n",
        "from abc import ABC, abstractmethod\n",
        "class Shape(ABC):\n",
        "    @abstractmethod\n",
        "    def area(self):\n",
        "        pass\n",
        "\n",
        "class Circle(Shape):\n",
        "    def __init__(self, radius):\n",
        "        self.radius = radius\n",
        "\n",
        "    def area(self):\n",
        "        return 3.14 * self.radius * self.radius\n",
        "\n",
        "class Rectangle(Shape):\n",
        "    def __init__(self, length, width):\n",
        "        self.length = length\n",
        "        self.width = width\n",
        "\n",
        "    def area(self):\n",
        "        return self.length * self.width\n",
        "\n",
        "c = Circle(5)\n",
        "r = Rectangle(4, 6)\n",
        "print(\"Circle area:\", c.area())\n",
        "print(\"Rectangle area:\", r.area())"
      ],
      "metadata": {
        "colab": {
          "base_uri": "https://localhost:8080/"
        },
        "id": "93i9EpwmNqj2",
        "outputId": "688fabb3-f9ce-4398-80da-9e8a172cae84"
      },
      "execution_count": 23,
      "outputs": [
        {
          "output_type": "stream",
          "name": "stdout",
          "text": [
            "Circle area: 78.5\n",
            "Rectangle area: 24\n"
          ]
        }
      ]
    },
    {
      "cell_type": "code",
      "source": [
        "# 3. Multi-level Inheritance: Vehicle → Car → ElectricCar\n",
        "class Vehicle:\n",
        "    def __init__(self, type):\n",
        "        self.type = type\n",
        "\n",
        "class Car(Vehicle):\n",
        "    def __init__(self, type, model):\n",
        "        super().__init__(type)\n",
        "        self.model = model\n",
        "\n",
        "class ElectricCar(Car):\n",
        "    def __init__(self, type, model, battery):\n",
        "        super().__init__(type, model)\n",
        "        self.battery = battery\n",
        "\n",
        "ecar = ElectricCar(\"Four-Wheeler\", \"Tesla\", \"100kWh\")\n",
        "print(ecar.type, ecar.model, ecar.battery)"
      ],
      "metadata": {
        "colab": {
          "base_uri": "https://localhost:8080/"
        },
        "id": "fyNW1wl7N_53",
        "outputId": "e3a3975b-f936-4596-f762-b920b241829a"
      },
      "execution_count": 24,
      "outputs": [
        {
          "output_type": "stream",
          "name": "stdout",
          "text": [
            "Four-Wheeler Tesla 100kWh\n"
          ]
        }
      ]
    },
    {
      "cell_type": "code",
      "source": [
        "# 4. Polymorphism with Bird, Sparrow, and Penguin\n",
        "class Bird:\n",
        "    def fly(self):\n",
        "        print(\"Some birds can fly.\")\n",
        "\n",
        "class Sparrow(Bird):\n",
        "    def fly(self):\n",
        "        print(\"Sparrow flies high.\")\n",
        "\n",
        "class Penguin(Bird):\n",
        "    def fly(self):\n",
        "        print(\"Penguins can't fly.\")\n",
        "\n",
        "for bird in [Sparrow(), Penguin()]:\n",
        "    bird.fly()"
      ],
      "metadata": {
        "colab": {
          "base_uri": "https://localhost:8080/"
        },
        "id": "xeo1RoHOOGqb",
        "outputId": "a6228334-d16e-4200-daad-38a822697ea7"
      },
      "execution_count": 25,
      "outputs": [
        {
          "output_type": "stream",
          "name": "stdout",
          "text": [
            "Sparrow flies high.\n",
            "Penguins can't fly.\n"
          ]
        }
      ]
    },
    {
      "cell_type": "code",
      "source": [
        "# 5. Encapsulation with BankAccount\n",
        "class BankAccount:\n",
        "    def __init__(self):\n",
        "        self.__balance = 0\n",
        "\n",
        "    def deposit(self, amount):\n",
        "        self.__balance += amount\n",
        "\n",
        "    def withdraw(self, amount):\n",
        "        if amount <= self.__balance:\n",
        "            self.__balance -= amount\n",
        "\n",
        "    def get_balance(self):\n",
        "        return self.__balance\n",
        "\n",
        "acc = BankAccount()\n",
        "acc.deposit(500)\n",
        "acc.withdraw(200)\n",
        "print(\"Balance:\", acc.get_balance())"
      ],
      "metadata": {
        "colab": {
          "base_uri": "https://localhost:8080/"
        },
        "id": "aedqNh4dOLCm",
        "outputId": "7fff150b-566d-41c9-f0be-9e9ce1ad64a5"
      },
      "execution_count": 26,
      "outputs": [
        {
          "output_type": "stream",
          "name": "stdout",
          "text": [
            "Balance: 300\n"
          ]
        }
      ]
    },
    {
      "cell_type": "code",
      "source": [
        "# 6. Runtime Polymorphism: Instrument, Guitar, Piano\n",
        "class Instrument:\n",
        "    def play(self):\n",
        "        print(\"Playing an instrument.\")\n",
        "\n",
        "class Guitar(Instrument):\n",
        "    def play(self):\n",
        "        print(\"Strumming the guitar.\")\n",
        "\n",
        "class Piano(Instrument):\n",
        "    def play(self):\n",
        "        print(\"Playing the piano.\")\n",
        "\n",
        "for instrument in [Guitar(), Piano()]:\n",
        "    instrument.play()"
      ],
      "metadata": {
        "colab": {
          "base_uri": "https://localhost:8080/"
        },
        "id": "1QQTZ3zmOO-Q",
        "outputId": "5587a10b-b9c5-4b9b-adfc-19f0aed15114"
      },
      "execution_count": 28,
      "outputs": [
        {
          "output_type": "stream",
          "name": "stdout",
          "text": [
            "Strumming the guitar.\n",
            "Playing the piano.\n"
          ]
        }
      ]
    },
    {
      "cell_type": "code",
      "source": [
        "# 7. MathOperations with class and static methods\n",
        "class MathOperations:\n",
        "    @classmethod\n",
        "    def add_numbers(cls, a, b):\n",
        "        return a + b\n",
        "\n",
        "    @staticmethod\n",
        "    def subtract_numbers(a, b):\n",
        "        return a - b\n"
      ],
      "metadata": {
        "id": "KmrnR0miOZ5H"
      },
      "execution_count": 9,
      "outputs": []
    },
    {
      "cell_type": "code",
      "source": [
        "# 8. Person class with class method to count persons\n",
        "class Person:\n",
        "    count = 0\n",
        "\n",
        "    def __init__(self, name):\n",
        "        self.name = name\n",
        "        Person.count += 1\n",
        "\n",
        "    @classmethod\n",
        "    def total_persons(cls):\n",
        "        return cls.count\n"
      ],
      "metadata": {
        "id": "ptLQmcLgOdkd"
      },
      "execution_count": 10,
      "outputs": []
    },
    {
      "cell_type": "code",
      "source": [
        "# 9. Fraction class with overridden __str__\n",
        "class Fraction:\n",
        "    def __init__(self, numerator, denominator):\n",
        "        self.numerator = numerator\n",
        "        self.denominator = denominator\n",
        "\n",
        "    def __str__(self):\n",
        "        return f\"{self.numerator}/{self.denominator}\""
      ],
      "metadata": {
        "id": "BhdS47KiOiR_"
      },
      "execution_count": 11,
      "outputs": []
    },
    {
      "cell_type": "code",
      "source": [
        "# 10. Vector class with operator overloading for addition\n",
        "class Vector:\n",
        "    def __init__(self, x, y):\n",
        "        self.x = x\n",
        "        self.y = y\n",
        "\n",
        "    def __add__(self, other):\n",
        "        return Vector(self.x + other.x, self.y + other.y)"
      ],
      "metadata": {
        "id": "mGWXIL4VOoDm"
      },
      "execution_count": 12,
      "outputs": []
    },
    {
      "cell_type": "code",
      "source": [
        "# 11. Person class with greet method\n",
        "class Person:\n",
        "    def __init__(self, name, age):\n",
        "        self.name = name\n",
        "        self.age = age\n",
        "\n",
        "    def greet(self):\n",
        "        print(f\"Hello, my name is {self.name} and I am {self.age} years old.\")"
      ],
      "metadata": {
        "id": "KNhguNKSOsZk"
      },
      "execution_count": 13,
      "outputs": []
    },
    {
      "cell_type": "code",
      "source": [
        "# 12. Student class with average_grade method\n",
        "class Student:\n",
        "    def __init__(self, name, grades):\n",
        "        self.name = name\n",
        "        self.grades = grades\n",
        "\n",
        "    def average_grade(self):\n",
        "        return sum(self.grades) / len(self.grades)"
      ],
      "metadata": {
        "id": "qY1zFWgoO41Y"
      },
      "execution_count": 14,
      "outputs": []
    },
    {
      "cell_type": "code",
      "source": [
        "# 13. Rectangle class with set_dimensions and area\n",
        "class Rectangle:\n",
        "    def set_dimensions(self, length, width):\n",
        "        self.length = length\n",
        "        self.width = width\n",
        "\n",
        "    def area(self):\n",
        "        return self.length * self.width"
      ],
      "metadata": {
        "id": "CkOEiJH5O8Uq"
      },
      "execution_count": 15,
      "outputs": []
    },
    {
      "cell_type": "code",
      "source": [
        "# 14. Employee and Manager with salary calculation\n",
        "class Employee:\n",
        "    def calculate_salary(self, hours, rate):\n",
        "        return hours * rate\n",
        "\n",
        "class Manager(Employee):\n",
        "    def calculate_salary(self, hours, rate, bonus):\n",
        "        return super().calculate_salary(hours, rate) + bonus"
      ],
      "metadata": {
        "id": "79eM589lO_3w"
      },
      "execution_count": 16,
      "outputs": []
    },
    {
      "cell_type": "code",
      "source": [
        "# 15. Product class with total_price method\n",
        "class Product:\n",
        "    def __init__(self, name, price, quantity):\n",
        "        self.name = name\n",
        "        self.price = price\n",
        "        self.quantity = quantity\n",
        "\n",
        "    def total_price(self):\n",
        "        return self.price * self.quantity\n"
      ],
      "metadata": {
        "id": "Z4H8-VOhPDkp"
      },
      "execution_count": 17,
      "outputs": []
    },
    {
      "cell_type": "code",
      "source": [
        "# 16. Animal abstract class with Cow and Sheep\n",
        "from abc import ABC, abstractmethod\n",
        "\n",
        "class Animal(ABC):\n",
        "    @abstractmethod\n",
        "    def sound(self):\n",
        "        pass\n",
        "\n",
        "class Cow(Animal):\n",
        "    def sound(self):\n",
        "        print(\"Moo\")\n",
        "\n",
        "class Sheep(Animal):\n",
        "    def sound(self):\n",
        "        print(\"Baa\")\n"
      ],
      "metadata": {
        "id": "3pOlbrmkPJQ7"
      },
      "execution_count": 18,
      "outputs": []
    },
    {
      "cell_type": "code",
      "source": [
        "# 17. Book class with get_book_info method\n",
        "class Book:\n",
        "    def __init__(self, title, author, year_published):\n",
        "        self.title = title\n",
        "        self.author = author\n",
        "        self.year_published = year_published\n",
        "\n",
        "    def get_book_info(self):\n",
        "        return f\"{self.title} by {self.author}, published in {self.year_published}\""
      ],
      "metadata": {
        "id": "YfA1vgx_PM0Z"
      },
      "execution_count": 19,
      "outputs": []
    },
    {
      "cell_type": "code",
      "source": [
        "# 18. House and Mansion with number_of_rooms\n",
        "class House:\n",
        "    def __init__(self, address, price):\n",
        "        self.address = address\n",
        "        self.price = price\n",
        "\n",
        "class Mansion(House):\n",
        "    def __init__(self, address, price, number_of_rooms):\n",
        "        super().__init__(address, price)\n",
        "        self.number_of_rooms = number_of_rooms"
      ],
      "metadata": {
        "id": "uv-2oZvmPPYa"
      },
      "execution_count": 20,
      "outputs": []
    }
  ]
}